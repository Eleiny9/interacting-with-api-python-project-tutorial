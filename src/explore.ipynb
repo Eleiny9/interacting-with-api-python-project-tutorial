{
    "cells": [
        {
            "cell_type": "markdown",
            "metadata": {},
            "source": [
                "# Explore here"
            ]
        },
        {
            "cell_type": "code",
            "execution_count": 1,
            "metadata": {},
            "outputs": [
                {
                    "data": {
                        "text/plain": [
                            "True"
                        ]
                    },
                    "execution_count": 1,
                    "metadata": {},
                    "output_type": "execute_result"
                }
            ],
            "source": [
                "import os\n",
                "import pandas as pd\n",
                "import seaborn as sns\n",
                "from dotenv import load_dotenv\n",
                "\n",
                "# load the .env file variables\n",
                "load_dotenv()\n",
                "\n"
            ]
        },
        {
            "cell_type": "code",
            "execution_count": 2,
            "metadata": {},
            "outputs": [],
            "source": [
                "from dotenv import load_dotenv\n",
                "load_dotenv()\n",
                "\n",
                "import os\n",
                "\n",
                "client_id = os.environ.get(\"CLIENT_ID\")\n",
                "client_secret = os.environ.get(\"CLIENT_SECRET\")"
            ]
        },
        {
            "cell_type": "markdown",
            "metadata": {},
            "source": []
        },
        {
            "cell_type": "code",
            "execution_count": 3,
            "metadata": {},
            "outputs": [],
            "source": [
                "import spotipy\n",
                "from spotipy.oauth2 import SpotifyClientCredentials\n",
                "\n",
                "con = spotipy.Spotify(auth_manager = SpotifyClientCredentials(client_id = client_id,\n",
                "                                                              client_secret = client_secret))"
            ]
        },
        {
            "cell_type": "code",
            "execution_count": 14,
            "metadata": {},
            "outputs": [],
            "source": [
                "artista_id = \"4rB5wLJLaXdMrXaYsOYLmK\"\n",
                "\n",
                "response = con.artist_top_tracks(artista_id)\n",
                "\n",
                "\n"
            ]
        },
        {
            "cell_type": "code",
            "execution_count": 15,
            "metadata": {},
            "outputs": [
                {
                    "name": "stdout",
                    "output_type": "stream",
                    "text": [
                        "                                               album  \\\n",
                        "0  {'album_type': 'album', 'artists': [{'external...   \n",
                        "1  {'album_type': 'album', 'artists': [{'external...   \n",
                        "2  {'album_type': 'album', 'artists': [{'external...   \n",
                        "3  {'album_type': 'album', 'artists': [{'external...   \n",
                        "4  {'album_type': 'album', 'artists': [{'external...   \n",
                        "5  {'album_type': 'album', 'artists': [{'external...   \n",
                        "6  {'album_type': 'album', 'artists': [{'external...   \n",
                        "7  {'album_type': 'album', 'artists': [{'external...   \n",
                        "8  {'album_type': 'album', 'artists': [{'external...   \n",
                        "9  {'album_type': 'album', 'artists': [{'external...   \n",
                        "\n",
                        "                                             artists  disc_number  \\\n",
                        "0  [{'external_urls': {'spotify': 'https://open.s...            1   \n",
                        "1  [{'external_urls': {'spotify': 'https://open.s...            1   \n",
                        "2  [{'external_urls': {'spotify': 'https://open.s...            1   \n",
                        "3  [{'external_urls': {'spotify': 'https://open.s...            1   \n",
                        "4  [{'external_urls': {'spotify': 'https://open.s...            1   \n",
                        "5  [{'external_urls': {'spotify': 'https://open.s...            1   \n",
                        "6  [{'external_urls': {'spotify': 'https://open.s...            1   \n",
                        "7  [{'external_urls': {'spotify': 'https://open.s...            1   \n",
                        "8  [{'external_urls': {'spotify': 'https://open.s...            1   \n",
                        "9  [{'external_urls': {'spotify': 'https://open.s...            1   \n",
                        "\n",
                        "   duration_ms  explicit              external_ids  \\\n",
                        "0        33493     False  {'isrc': 'USA371696770'}   \n",
                        "1        52066     False  {'isrc': 'USA371649818'}   \n",
                        "2        76186     False  {'isrc': 'USA371696767'}   \n",
                        "3        65066     False  {'isrc': 'USA561087550'}   \n",
                        "4        48706     False  {'isrc': 'USA371696772'}   \n",
                        "5        76115     False  {'isrc': 'USA371696745'}   \n",
                        "6        34342     False  {'isrc': 'USA371696748'}   \n",
                        "7        57965     False  {'isrc': 'USA371696766'}   \n",
                        "8       112346     False  {'isrc': 'USA371696777'}   \n",
                        "9        80853     False  {'isrc': 'USA371648133'}   \n",
                        "\n",
                        "                                       external_urls  \\\n",
                        "0  {'spotify': 'https://open.spotify.com/track/1D...   \n",
                        "1  {'spotify': 'https://open.spotify.com/track/1r...   \n",
                        "2  {'spotify': 'https://open.spotify.com/track/6c...   \n",
                        "3  {'spotify': 'https://open.spotify.com/track/5v...   \n",
                        "4  {'spotify': 'https://open.spotify.com/track/5D...   \n",
                        "5  {'spotify': 'https://open.spotify.com/track/3o...   \n",
                        "6  {'spotify': 'https://open.spotify.com/track/3y...   \n",
                        "7  {'spotify': 'https://open.spotify.com/track/4m...   \n",
                        "8  {'spotify': 'https://open.spotify.com/track/6W...   \n",
                        "9  {'spotify': 'https://open.spotify.com/track/3i...   \n",
                        "\n",
                        "                                                href                      id  \\\n",
                        "0  https://api.spotify.com/v1/tracks/1D33HYMtMhZ9...  1D33HYMtMhZ9KvBdgOHZEU   \n",
                        "1  https://api.spotify.com/v1/tracks/1rVBE5t59NtX...  1rVBE5t59NtX8VfcOb1770   \n",
                        "2  https://api.spotify.com/v1/tracks/6cre1y1vEoVd...  6cre1y1vEoVdVDUm3zfT9S   \n",
                        "3  https://api.spotify.com/v1/tracks/5vhjiYaPrm4P...  5vhjiYaPrm4PKpPABpLc8O   \n",
                        "4  https://api.spotify.com/v1/tracks/5DcMbMy1rvXV...  5DcMbMy1rvXVuv0ZFh9W46   \n",
                        "5  https://api.spotify.com/v1/tracks/3oE7aU8HChgI...  3oE7aU8HChgIhhHFLeXVlM   \n",
                        "6  https://api.spotify.com/v1/tracks/3yG4U2GnmSH0...  3yG4U2GnmSH04Li8aXGFiE   \n",
                        "7  https://api.spotify.com/v1/tracks/4mPP0bb1je8N...  4mPP0bb1je8NWfZhvtKjCe   \n",
                        "8  https://api.spotify.com/v1/tracks/6Wg2RaH95r9y...  6Wg2RaH95r9y85tLU1oBgx   \n",
                        "9  https://api.spotify.com/v1/tracks/3i23oNqwCQtI...  3i23oNqwCQtIz8LDNCtZK2   \n",
                        "\n",
                        "   is_local  is_playable                          name  popularity  \\\n",
                        "0     False         True                      Clean Up          56   \n",
                        "1     False         True                    I Love You          53   \n",
                        "2     False         True                      ABC Song          48   \n",
                        "3     False         True                    Mister Sun          45   \n",
                        "4     False         True             Itsy Bitsy Spider          43   \n",
                        "5     False         True                    Abecedario          40   \n",
                        "6     False         True                      Limpieza          40   \n",
                        "7     False         True                     Te quiero          39   \n",
                        "8     False         True             Brushing My Teeth          38   \n",
                        "9     False         True  Twinkle, Twinkle Little Star          38   \n",
                        "\n",
                        "                                         preview_url  track_number   type  \\\n",
                        "0  https://p.scdn.co/mp3-preview/96f78abbdd0e2250...             4  track   \n",
                        "1  https://p.scdn.co/mp3-preview/365a947a6a3a511c...            25  track   \n",
                        "2  https://p.scdn.co/mp3-preview/3a925cb37a1accef...             1  track   \n",
                        "3  https://p.scdn.co/mp3-preview/6b4e9ec876809008...             1  track   \n",
                        "4  https://p.scdn.co/mp3-preview/9eebf4668dfce3c2...             6  track   \n",
                        "5  https://p.scdn.co/mp3-preview/e33b6d304a768535...             1  track   \n",
                        "6  https://p.scdn.co/mp3-preview/329a142990376293...             4  track   \n",
                        "7  https://p.scdn.co/mp3-preview/d596f5766aa16d01...            22  track   \n",
                        "8  https://p.scdn.co/mp3-preview/fb2695a2df93390c...            11  track   \n",
                        "9  https://p.scdn.co/mp3-preview/685845ffcdaaf36b...             9  track   \n",
                        "\n",
                        "                                    uri  \n",
                        "0  spotify:track:1D33HYMtMhZ9KvBdgOHZEU  \n",
                        "1  spotify:track:1rVBE5t59NtX8VfcOb1770  \n",
                        "2  spotify:track:6cre1y1vEoVdVDUm3zfT9S  \n",
                        "3  spotify:track:5vhjiYaPrm4PKpPABpLc8O  \n",
                        "4  spotify:track:5DcMbMy1rvXVuv0ZFh9W46  \n",
                        "5  spotify:track:3oE7aU8HChgIhhHFLeXVlM  \n",
                        "6  spotify:track:3yG4U2GnmSH04Li8aXGFiE  \n",
                        "7  spotify:track:4mPP0bb1je8NWfZhvtKjCe  \n",
                        "8  spotify:track:6Wg2RaH95r9y85tLU1oBgx  \n",
                        "9  spotify:track:3i23oNqwCQtIz8LDNCtZK2  \n"
                    ]
                }
            ],
            "source": [
                "import pandas as pd\n",
                "\n",
                "tracks_df = pd.DataFrame.from_records(response[\"tracks\"])\n",
                "\n",
                "print(tracks_df)"
            ]
        },
        {
            "cell_type": "code",
            "execution_count": 16,
            "metadata": {},
            "outputs": [
                {
                    "data": {
                        "image/png": "[encoded data removed]",
                        "text/plain": [
                            "<Figure size 640x480 with 1 Axes>"
                        ]
                    },
                    "metadata": {},
                    "output_type": "display_data"
                }
            ],
            "source": [
                "import seaborn as sns\n",
                "\n",
                "scatter_plot = sns.scatterplot(data = tracks_df, x = \"popularity\", y = \"duration_ms\")\n",
                "fig = scatter_plot.get_figure()\n",
                "fig.savefig(\"scatter_plot.png\")"
            ]
        }
    ],
    "metadata": {
        "kernelspec": {
            "display_name": "Python 3.8.13 64-bit ('3.8.13')",
            "language": "python",
            "name": "python3"
        },
        "language_info": {
            "codemirror_mode": {
                "name": "ipython",
                "version": 3
            },
            "file_extension": ".py",
            "mimetype": "text/x-python",
            "name": "python",
            "nbconvert_exporter": "python",
            "pygments_lexer": "ipython3",
            "version": "3.11.4"
        },
        "orig_nbformat": 4,
        "vscode": {
            "interpreter": {
                "hash": "110cc1dee26208153f2972f08a2ad52b6a56238dc66d48e87fb757ef2996db56"
            }
        }
    },
    "nbformat": 4,
    "nbformat_minor": 2
}
